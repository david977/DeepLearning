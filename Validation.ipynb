{
  "nbformat": 4,
  "nbformat_minor": 0,
  "metadata": {
    "colab": {
      "name": "Validation.ipynb",
      "provenance": [],
      "collapsed_sections": []
    },
    "language_info": {
      "codemirror_mode": {
        "name": "ipython",
        "version": 3
      },
      "file_extension": ".py",
      "mimetype": "text/x-python",
      "name": "python",
      "nbconvert_exporter": "python",
      "pygments_lexer": "ipython3",
      "version": "3.6.8"
    },
    "kernelspec": {
      "name": "python3",
      "display_name": "Python 3"
    },
    "widgets": {
      "application/vnd.jupyter.widget-state+json": {
        "a1cc783f7cea4275995a50d5694c0cfd": {
          "model_module": "@jupyter-widgets/controls",
          "model_name": "HBoxModel",
          "state": {
            "_view_name": "HBoxView",
            "_dom_classes": [],
            "_model_name": "HBoxModel",
            "_view_module": "@jupyter-widgets/controls",
            "_model_module_version": "1.5.0",
            "_view_count": null,
            "_view_module_version": "1.5.0",
            "box_style": "",
            "layout": "IPY_MODEL_d69b1c0a16d84a3a918d12c0ecae13e3",
            "_model_module": "@jupyter-widgets/controls",
            "children": [
              "IPY_MODEL_ae95ae761996435bb50d7b59555c4483",
              "IPY_MODEL_0ce3d751050240ba8e3eb272c63aa3fb"
            ]
          }
        },
        "d69b1c0a16d84a3a918d12c0ecae13e3": {
          "model_module": "@jupyter-widgets/base",
          "model_name": "LayoutModel",
          "state": {
            "_view_name": "LayoutView",
            "grid_template_rows": null,
            "right": null,
            "justify_content": null,
            "_view_module": "@jupyter-widgets/base",
            "overflow": null,
            "_model_module_version": "1.2.0",
            "_view_count": null,
            "flex_flow": null,
            "width": null,
            "min_width": null,
            "border": null,
            "align_items": null,
            "bottom": null,
            "_model_module": "@jupyter-widgets/base",
            "top": null,
            "grid_column": null,
            "overflow_y": null,
            "overflow_x": null,
            "grid_auto_flow": null,
            "grid_area": null,
            "grid_template_columns": null,
            "flex": null,
            "_model_name": "LayoutModel",
            "justify_items": null,
            "grid_row": null,
            "max_height": null,
            "align_content": null,
            "visibility": null,
            "align_self": null,
            "height": null,
            "min_height": null,
            "padding": null,
            "grid_auto_rows": null,
            "grid_gap": null,
            "max_width": null,
            "order": null,
            "_view_module_version": "1.2.0",
            "grid_template_areas": null,
            "object_position": null,
            "object_fit": null,
            "grid_auto_columns": null,
            "margin": null,
            "display": null,
            "left": null
          }
        },
        "ae95ae761996435bb50d7b59555c4483": {
          "model_module": "@jupyter-widgets/controls",
          "model_name": "FloatProgressModel",
          "state": {
            "_view_name": "ProgressView",
            "style": "IPY_MODEL_918d1d82fdae45629a9981c597e36ecf",
            "_dom_classes": [],
            "description": "",
            "_model_name": "FloatProgressModel",
            "bar_style": "success",
            "max": 26421880,
            "_view_module": "@jupyter-widgets/controls",
            "_model_module_version": "1.5.0",
            "value": 26421880,
            "_view_count": null,
            "_view_module_version": "1.5.0",
            "orientation": "horizontal",
            "min": 0,
            "description_tooltip": null,
            "_model_module": "@jupyter-widgets/controls",
            "layout": "IPY_MODEL_c8417219aa314299bc104e2703766ed2"
          }
        },
        "0ce3d751050240ba8e3eb272c63aa3fb": {
          "model_module": "@jupyter-widgets/controls",
          "model_name": "HTMLModel",
          "state": {
            "_view_name": "HTMLView",
            "style": "IPY_MODEL_01f86d959e0e4f15ba91dbbd3b645c15",
            "_dom_classes": [],
            "description": "",
            "_model_name": "HTMLModel",
            "placeholder": "​",
            "_view_module": "@jupyter-widgets/controls",
            "_model_module_version": "1.5.0",
            "value": " 26422272/? [00:33&lt;00:00, 788224.57it/s]",
            "_view_count": null,
            "_view_module_version": "1.5.0",
            "description_tooltip": null,
            "_model_module": "@jupyter-widgets/controls",
            "layout": "IPY_MODEL_c8b9c5a4a6be4d81abe07f16fbadfaa8"
          }
        },
        "918d1d82fdae45629a9981c597e36ecf": {
          "model_module": "@jupyter-widgets/controls",
          "model_name": "ProgressStyleModel",
          "state": {
            "_view_name": "StyleView",
            "_model_name": "ProgressStyleModel",
            "description_width": "initial",
            "_view_module": "@jupyter-widgets/base",
            "_model_module_version": "1.5.0",
            "_view_count": null,
            "_view_module_version": "1.2.0",
            "bar_color": null,
            "_model_module": "@jupyter-widgets/controls"
          }
        },
        "c8417219aa314299bc104e2703766ed2": {
          "model_module": "@jupyter-widgets/base",
          "model_name": "LayoutModel",
          "state": {
            "_view_name": "LayoutView",
            "grid_template_rows": null,
            "right": null,
            "justify_content": null,
            "_view_module": "@jupyter-widgets/base",
            "overflow": null,
            "_model_module_version": "1.2.0",
            "_view_count": null,
            "flex_flow": null,
            "width": null,
            "min_width": null,
            "border": null,
            "align_items": null,
            "bottom": null,
            "_model_module": "@jupyter-widgets/base",
            "top": null,
            "grid_column": null,
            "overflow_y": null,
            "overflow_x": null,
            "grid_auto_flow": null,
            "grid_area": null,
            "grid_template_columns": null,
            "flex": null,
            "_model_name": "LayoutModel",
            "justify_items": null,
            "grid_row": null,
            "max_height": null,
            "align_content": null,
            "visibility": null,
            "align_self": null,
            "height": null,
            "min_height": null,
            "padding": null,
            "grid_auto_rows": null,
            "grid_gap": null,
            "max_width": null,
            "order": null,
            "_view_module_version": "1.2.0",
            "grid_template_areas": null,
            "object_position": null,
            "object_fit": null,
            "grid_auto_columns": null,
            "margin": null,
            "display": null,
            "left": null
          }
        },
        "01f86d959e0e4f15ba91dbbd3b645c15": {
          "model_module": "@jupyter-widgets/controls",
          "model_name": "DescriptionStyleModel",
          "state": {
            "_view_name": "StyleView",
            "_model_name": "DescriptionStyleModel",
            "description_width": "",
            "_view_module": "@jupyter-widgets/base",
            "_model_module_version": "1.5.0",
            "_view_count": null,
            "_view_module_version": "1.2.0",
            "_model_module": "@jupyter-widgets/controls"
          }
        },
        "c8b9c5a4a6be4d81abe07f16fbadfaa8": {
          "model_module": "@jupyter-widgets/base",
          "model_name": "LayoutModel",
          "state": {
            "_view_name": "LayoutView",
            "grid_template_rows": null,
            "right": null,
            "justify_content": null,
            "_view_module": "@jupyter-widgets/base",
            "overflow": null,
            "_model_module_version": "1.2.0",
            "_view_count": null,
            "flex_flow": null,
            "width": null,
            "min_width": null,
            "border": null,
            "align_items": null,
            "bottom": null,
            "_model_module": "@jupyter-widgets/base",
            "top": null,
            "grid_column": null,
            "overflow_y": null,
            "overflow_x": null,
            "grid_auto_flow": null,
            "grid_area": null,
            "grid_template_columns": null,
            "flex": null,
            "_model_name": "LayoutModel",
            "justify_items": null,
            "grid_row": null,
            "max_height": null,
            "align_content": null,
            "visibility": null,
            "align_self": null,
            "height": null,
            "min_height": null,
            "padding": null,
            "grid_auto_rows": null,
            "grid_gap": null,
            "max_width": null,
            "order": null,
            "_view_module_version": "1.2.0",
            "grid_template_areas": null,
            "object_position": null,
            "object_fit": null,
            "grid_auto_columns": null,
            "margin": null,
            "display": null,
            "left": null
          }
        },
        "a52de60a19fa46f6893c365bcb452f37": {
          "model_module": "@jupyter-widgets/controls",
          "model_name": "HBoxModel",
          "state": {
            "_view_name": "HBoxView",
            "_dom_classes": [],
            "_model_name": "HBoxModel",
            "_view_module": "@jupyter-widgets/controls",
            "_model_module_version": "1.5.0",
            "_view_count": null,
            "_view_module_version": "1.5.0",
            "box_style": "",
            "layout": "IPY_MODEL_224d0e0ca5194e5bb963cccde87d0420",
            "_model_module": "@jupyter-widgets/controls",
            "children": [
              "IPY_MODEL_8a4a3baf8f224b799f3f87605e25f925",
              "IPY_MODEL_52792bc40051403ca9e4b32cab24a5e7"
            ]
          }
        },
        "224d0e0ca5194e5bb963cccde87d0420": {
          "model_module": "@jupyter-widgets/base",
          "model_name": "LayoutModel",
          "state": {
            "_view_name": "LayoutView",
            "grid_template_rows": null,
            "right": null,
            "justify_content": null,
            "_view_module": "@jupyter-widgets/base",
            "overflow": null,
            "_model_module_version": "1.2.0",
            "_view_count": null,
            "flex_flow": null,
            "width": null,
            "min_width": null,
            "border": null,
            "align_items": null,
            "bottom": null,
            "_model_module": "@jupyter-widgets/base",
            "top": null,
            "grid_column": null,
            "overflow_y": null,
            "overflow_x": null,
            "grid_auto_flow": null,
            "grid_area": null,
            "grid_template_columns": null,
            "flex": null,
            "_model_name": "LayoutModel",
            "justify_items": null,
            "grid_row": null,
            "max_height": null,
            "align_content": null,
            "visibility": null,
            "align_self": null,
            "height": null,
            "min_height": null,
            "padding": null,
            "grid_auto_rows": null,
            "grid_gap": null,
            "max_width": null,
            "order": null,
            "_view_module_version": "1.2.0",
            "grid_template_areas": null,
            "object_position": null,
            "object_fit": null,
            "grid_auto_columns": null,
            "margin": null,
            "display": null,
            "left": null
          }
        },
        "8a4a3baf8f224b799f3f87605e25f925": {
          "model_module": "@jupyter-widgets/controls",
          "model_name": "FloatProgressModel",
          "state": {
            "_view_name": "ProgressView",
            "style": "IPY_MODEL_5c1d637d589742f9b0933f9324b6bfaf",
            "_dom_classes": [],
            "description": "",
            "_model_name": "FloatProgressModel",
            "bar_style": "success",
            "max": 29515,
            "_view_module": "@jupyter-widgets/controls",
            "_model_module_version": "1.5.0",
            "value": 29515,
            "_view_count": null,
            "_view_module_version": "1.5.0",
            "orientation": "horizontal",
            "min": 0,
            "description_tooltip": null,
            "_model_module": "@jupyter-widgets/controls",
            "layout": "IPY_MODEL_4b68f5e258384636a948f8c5389a9e3b"
          }
        },
        "52792bc40051403ca9e4b32cab24a5e7": {
          "model_module": "@jupyter-widgets/controls",
          "model_name": "HTMLModel",
          "state": {
            "_view_name": "HTMLView",
            "style": "IPY_MODEL_0312549c365249e18a034e02e7110343",
            "_dom_classes": [],
            "description": "",
            "_model_name": "HTMLModel",
            "placeholder": "​",
            "_view_module": "@jupyter-widgets/controls",
            "_model_module_version": "1.5.0",
            "value": " 29696/? [00:29&lt;00:00, 995.94it/s]",
            "_view_count": null,
            "_view_module_version": "1.5.0",
            "description_tooltip": null,
            "_model_module": "@jupyter-widgets/controls",
            "layout": "IPY_MODEL_eeb4e04bf5ba4bffae8a65511a99e8ec"
          }
        },
        "5c1d637d589742f9b0933f9324b6bfaf": {
          "model_module": "@jupyter-widgets/controls",
          "model_name": "ProgressStyleModel",
          "state": {
            "_view_name": "StyleView",
            "_model_name": "ProgressStyleModel",
            "description_width": "initial",
            "_view_module": "@jupyter-widgets/base",
            "_model_module_version": "1.5.0",
            "_view_count": null,
            "_view_module_version": "1.2.0",
            "bar_color": null,
            "_model_module": "@jupyter-widgets/controls"
          }
        },
        "4b68f5e258384636a948f8c5389a9e3b": {
          "model_module": "@jupyter-widgets/base",
          "model_name": "LayoutModel",
          "state": {
            "_view_name": "LayoutView",
            "grid_template_rows": null,
            "right": null,
            "justify_content": null,
            "_view_module": "@jupyter-widgets/base",
            "overflow": null,
            "_model_module_version": "1.2.0",
            "_view_count": null,
            "flex_flow": null,
            "width": null,
            "min_width": null,
            "border": null,
            "align_items": null,
            "bottom": null,
            "_model_module": "@jupyter-widgets/base",
            "top": null,
            "grid_column": null,
            "overflow_y": null,
            "overflow_x": null,
            "grid_auto_flow": null,
            "grid_area": null,
            "grid_template_columns": null,
            "flex": null,
            "_model_name": "LayoutModel",
            "justify_items": null,
            "grid_row": null,
            "max_height": null,
            "align_content": null,
            "visibility": null,
            "align_self": null,
            "height": null,
            "min_height": null,
            "padding": null,
            "grid_auto_rows": null,
            "grid_gap": null,
            "max_width": null,
            "order": null,
            "_view_module_version": "1.2.0",
            "grid_template_areas": null,
            "object_position": null,
            "object_fit": null,
            "grid_auto_columns": null,
            "margin": null,
            "display": null,
            "left": null
          }
        },
        "0312549c365249e18a034e02e7110343": {
          "model_module": "@jupyter-widgets/controls",
          "model_name": "DescriptionStyleModel",
          "state": {
            "_view_name": "StyleView",
            "_model_name": "DescriptionStyleModel",
            "description_width": "",
            "_view_module": "@jupyter-widgets/base",
            "_model_module_version": "1.5.0",
            "_view_count": null,
            "_view_module_version": "1.2.0",
            "_model_module": "@jupyter-widgets/controls"
          }
        },
        "eeb4e04bf5ba4bffae8a65511a99e8ec": {
          "model_module": "@jupyter-widgets/base",
          "model_name": "LayoutModel",
          "state": {
            "_view_name": "LayoutView",
            "grid_template_rows": null,
            "right": null,
            "justify_content": null,
            "_view_module": "@jupyter-widgets/base",
            "overflow": null,
            "_model_module_version": "1.2.0",
            "_view_count": null,
            "flex_flow": null,
            "width": null,
            "min_width": null,
            "border": null,
            "align_items": null,
            "bottom": null,
            "_model_module": "@jupyter-widgets/base",
            "top": null,
            "grid_column": null,
            "overflow_y": null,
            "overflow_x": null,
            "grid_auto_flow": null,
            "grid_area": null,
            "grid_template_columns": null,
            "flex": null,
            "_model_name": "LayoutModel",
            "justify_items": null,
            "grid_row": null,
            "max_height": null,
            "align_content": null,
            "visibility": null,
            "align_self": null,
            "height": null,
            "min_height": null,
            "padding": null,
            "grid_auto_rows": null,
            "grid_gap": null,
            "max_width": null,
            "order": null,
            "_view_module_version": "1.2.0",
            "grid_template_areas": null,
            "object_position": null,
            "object_fit": null,
            "grid_auto_columns": null,
            "margin": null,
            "display": null,
            "left": null
          }
        },
        "e75669cf75ba43a0b67954d5abcca12d": {
          "model_module": "@jupyter-widgets/controls",
          "model_name": "HBoxModel",
          "state": {
            "_view_name": "HBoxView",
            "_dom_classes": [],
            "_model_name": "HBoxModel",
            "_view_module": "@jupyter-widgets/controls",
            "_model_module_version": "1.5.0",
            "_view_count": null,
            "_view_module_version": "1.5.0",
            "box_style": "",
            "layout": "IPY_MODEL_f56d868c00004896b61e34e4715f6b46",
            "_model_module": "@jupyter-widgets/controls",
            "children": [
              "IPY_MODEL_064569b38f4a4ebfa39b2e64cddb5e7c",
              "IPY_MODEL_9c9f77677d05416cac5c883004df9f4d"
            ]
          }
        },
        "f56d868c00004896b61e34e4715f6b46": {
          "model_module": "@jupyter-widgets/base",
          "model_name": "LayoutModel",
          "state": {
            "_view_name": "LayoutView",
            "grid_template_rows": null,
            "right": null,
            "justify_content": null,
            "_view_module": "@jupyter-widgets/base",
            "overflow": null,
            "_model_module_version": "1.2.0",
            "_view_count": null,
            "flex_flow": null,
            "width": null,
            "min_width": null,
            "border": null,
            "align_items": null,
            "bottom": null,
            "_model_module": "@jupyter-widgets/base",
            "top": null,
            "grid_column": null,
            "overflow_y": null,
            "overflow_x": null,
            "grid_auto_flow": null,
            "grid_area": null,
            "grid_template_columns": null,
            "flex": null,
            "_model_name": "LayoutModel",
            "justify_items": null,
            "grid_row": null,
            "max_height": null,
            "align_content": null,
            "visibility": null,
            "align_self": null,
            "height": null,
            "min_height": null,
            "padding": null,
            "grid_auto_rows": null,
            "grid_gap": null,
            "max_width": null,
            "order": null,
            "_view_module_version": "1.2.0",
            "grid_template_areas": null,
            "object_position": null,
            "object_fit": null,
            "grid_auto_columns": null,
            "margin": null,
            "display": null,
            "left": null
          }
        },
        "064569b38f4a4ebfa39b2e64cddb5e7c": {
          "model_module": "@jupyter-widgets/controls",
          "model_name": "FloatProgressModel",
          "state": {
            "_view_name": "ProgressView",
            "style": "IPY_MODEL_c106e15420b74b348034ccd78a72a9c1",
            "_dom_classes": [],
            "description": "",
            "_model_name": "FloatProgressModel",
            "bar_style": "success",
            "max": 4422102,
            "_view_module": "@jupyter-widgets/controls",
            "_model_module_version": "1.5.0",
            "value": 4422102,
            "_view_count": null,
            "_view_module_version": "1.5.0",
            "orientation": "horizontal",
            "min": 0,
            "description_tooltip": null,
            "_model_module": "@jupyter-widgets/controls",
            "layout": "IPY_MODEL_b6ba604b05184137987424678ecd47ff"
          }
        },
        "9c9f77677d05416cac5c883004df9f4d": {
          "model_module": "@jupyter-widgets/controls",
          "model_name": "HTMLModel",
          "state": {
            "_view_name": "HTMLView",
            "style": "IPY_MODEL_cd8172706c2f4f44beb6fed4cc980c27",
            "_dom_classes": [],
            "description": "",
            "_model_name": "HTMLModel",
            "placeholder": "​",
            "_view_module": "@jupyter-widgets/controls",
            "_model_module_version": "1.5.0",
            "value": " 4422656/? [00:02&lt;00:00, 1941179.10it/s]",
            "_view_count": null,
            "_view_module_version": "1.5.0",
            "description_tooltip": null,
            "_model_module": "@jupyter-widgets/controls",
            "layout": "IPY_MODEL_33874b73a74f42c48859a27d8acbe0df"
          }
        },
        "c106e15420b74b348034ccd78a72a9c1": {
          "model_module": "@jupyter-widgets/controls",
          "model_name": "ProgressStyleModel",
          "state": {
            "_view_name": "StyleView",
            "_model_name": "ProgressStyleModel",
            "description_width": "initial",
            "_view_module": "@jupyter-widgets/base",
            "_model_module_version": "1.5.0",
            "_view_count": null,
            "_view_module_version": "1.2.0",
            "bar_color": null,
            "_model_module": "@jupyter-widgets/controls"
          }
        },
        "b6ba604b05184137987424678ecd47ff": {
          "model_module": "@jupyter-widgets/base",
          "model_name": "LayoutModel",
          "state": {
            "_view_name": "LayoutView",
            "grid_template_rows": null,
            "right": null,
            "justify_content": null,
            "_view_module": "@jupyter-widgets/base",
            "overflow": null,
            "_model_module_version": "1.2.0",
            "_view_count": null,
            "flex_flow": null,
            "width": null,
            "min_width": null,
            "border": null,
            "align_items": null,
            "bottom": null,
            "_model_module": "@jupyter-widgets/base",
            "top": null,
            "grid_column": null,
            "overflow_y": null,
            "overflow_x": null,
            "grid_auto_flow": null,
            "grid_area": null,
            "grid_template_columns": null,
            "flex": null,
            "_model_name": "LayoutModel",
            "justify_items": null,
            "grid_row": null,
            "max_height": null,
            "align_content": null,
            "visibility": null,
            "align_self": null,
            "height": null,
            "min_height": null,
            "padding": null,
            "grid_auto_rows": null,
            "grid_gap": null,
            "max_width": null,
            "order": null,
            "_view_module_version": "1.2.0",
            "grid_template_areas": null,
            "object_position": null,
            "object_fit": null,
            "grid_auto_columns": null,
            "margin": null,
            "display": null,
            "left": null
          }
        },
        "cd8172706c2f4f44beb6fed4cc980c27": {
          "model_module": "@jupyter-widgets/controls",
          "model_name": "DescriptionStyleModel",
          "state": {
            "_view_name": "StyleView",
            "_model_name": "DescriptionStyleModel",
            "description_width": "",
            "_view_module": "@jupyter-widgets/base",
            "_model_module_version": "1.5.0",
            "_view_count": null,
            "_view_module_version": "1.2.0",
            "_model_module": "@jupyter-widgets/controls"
          }
        },
        "33874b73a74f42c48859a27d8acbe0df": {
          "model_module": "@jupyter-widgets/base",
          "model_name": "LayoutModel",
          "state": {
            "_view_name": "LayoutView",
            "grid_template_rows": null,
            "right": null,
            "justify_content": null,
            "_view_module": "@jupyter-widgets/base",
            "overflow": null,
            "_model_module_version": "1.2.0",
            "_view_count": null,
            "flex_flow": null,
            "width": null,
            "min_width": null,
            "border": null,
            "align_items": null,
            "bottom": null,
            "_model_module": "@jupyter-widgets/base",
            "top": null,
            "grid_column": null,
            "overflow_y": null,
            "overflow_x": null,
            "grid_auto_flow": null,
            "grid_area": null,
            "grid_template_columns": null,
            "flex": null,
            "_model_name": "LayoutModel",
            "justify_items": null,
            "grid_row": null,
            "max_height": null,
            "align_content": null,
            "visibility": null,
            "align_self": null,
            "height": null,
            "min_height": null,
            "padding": null,
            "grid_auto_rows": null,
            "grid_gap": null,
            "max_width": null,
            "order": null,
            "_view_module_version": "1.2.0",
            "grid_template_areas": null,
            "object_position": null,
            "object_fit": null,
            "grid_auto_columns": null,
            "margin": null,
            "display": null,
            "left": null
          }
        },
        "2169e24e83954d04b0ec20196769817b": {
          "model_module": "@jupyter-widgets/controls",
          "model_name": "HBoxModel",
          "state": {
            "_view_name": "HBoxView",
            "_dom_classes": [],
            "_model_name": "HBoxModel",
            "_view_module": "@jupyter-widgets/controls",
            "_model_module_version": "1.5.0",
            "_view_count": null,
            "_view_module_version": "1.5.0",
            "box_style": "",
            "layout": "IPY_MODEL_0448e29bfc7e40968779ed52801dd8e7",
            "_model_module": "@jupyter-widgets/controls",
            "children": [
              "IPY_MODEL_4a35c5f4424941beb9e49f1953d3953a",
              "IPY_MODEL_0e21e926e2264308ab12956d723e80b8"
            ]
          }
        },
        "0448e29bfc7e40968779ed52801dd8e7": {
          "model_module": "@jupyter-widgets/base",
          "model_name": "LayoutModel",
          "state": {
            "_view_name": "LayoutView",
            "grid_template_rows": null,
            "right": null,
            "justify_content": null,
            "_view_module": "@jupyter-widgets/base",
            "overflow": null,
            "_model_module_version": "1.2.0",
            "_view_count": null,
            "flex_flow": null,
            "width": null,
            "min_width": null,
            "border": null,
            "align_items": null,
            "bottom": null,
            "_model_module": "@jupyter-widgets/base",
            "top": null,
            "grid_column": null,
            "overflow_y": null,
            "overflow_x": null,
            "grid_auto_flow": null,
            "grid_area": null,
            "grid_template_columns": null,
            "flex": null,
            "_model_name": "LayoutModel",
            "justify_items": null,
            "grid_row": null,
            "max_height": null,
            "align_content": null,
            "visibility": null,
            "align_self": null,
            "height": null,
            "min_height": null,
            "padding": null,
            "grid_auto_rows": null,
            "grid_gap": null,
            "max_width": null,
            "order": null,
            "_view_module_version": "1.2.0",
            "grid_template_areas": null,
            "object_position": null,
            "object_fit": null,
            "grid_auto_columns": null,
            "margin": null,
            "display": null,
            "left": null
          }
        },
        "4a35c5f4424941beb9e49f1953d3953a": {
          "model_module": "@jupyter-widgets/controls",
          "model_name": "FloatProgressModel",
          "state": {
            "_view_name": "ProgressView",
            "style": "IPY_MODEL_3254a2ab9af14a778c95bd16d56cd16b",
            "_dom_classes": [],
            "description": "",
            "_model_name": "FloatProgressModel",
            "bar_style": "success",
            "max": 5148,
            "_view_module": "@jupyter-widgets/controls",
            "_model_module_version": "1.5.0",
            "value": 5148,
            "_view_count": null,
            "_view_module_version": "1.5.0",
            "orientation": "horizontal",
            "min": 0,
            "description_tooltip": null,
            "_model_module": "@jupyter-widgets/controls",
            "layout": "IPY_MODEL_d7ec920eab5849b799c1919032c561ca"
          }
        },
        "0e21e926e2264308ab12956d723e80b8": {
          "model_module": "@jupyter-widgets/controls",
          "model_name": "HTMLModel",
          "state": {
            "_view_name": "HTMLView",
            "style": "IPY_MODEL_b19525e41fb74cbab6d3ae54122bc11b",
            "_dom_classes": [],
            "description": "",
            "_model_name": "HTMLModel",
            "placeholder": "​",
            "_view_module": "@jupyter-widgets/controls",
            "_model_module_version": "1.5.0",
            "value": " 6144/? [00:00&lt;00:00, 17825.63it/s]",
            "_view_count": null,
            "_view_module_version": "1.5.0",
            "description_tooltip": null,
            "_model_module": "@jupyter-widgets/controls",
            "layout": "IPY_MODEL_9293191bdfaa4e378d315fec69abad43"
          }
        },
        "3254a2ab9af14a778c95bd16d56cd16b": {
          "model_module": "@jupyter-widgets/controls",
          "model_name": "ProgressStyleModel",
          "state": {
            "_view_name": "StyleView",
            "_model_name": "ProgressStyleModel",
            "description_width": "initial",
            "_view_module": "@jupyter-widgets/base",
            "_model_module_version": "1.5.0",
            "_view_count": null,
            "_view_module_version": "1.2.0",
            "bar_color": null,
            "_model_module": "@jupyter-widgets/controls"
          }
        },
        "d7ec920eab5849b799c1919032c561ca": {
          "model_module": "@jupyter-widgets/base",
          "model_name": "LayoutModel",
          "state": {
            "_view_name": "LayoutView",
            "grid_template_rows": null,
            "right": null,
            "justify_content": null,
            "_view_module": "@jupyter-widgets/base",
            "overflow": null,
            "_model_module_version": "1.2.0",
            "_view_count": null,
            "flex_flow": null,
            "width": null,
            "min_width": null,
            "border": null,
            "align_items": null,
            "bottom": null,
            "_model_module": "@jupyter-widgets/base",
            "top": null,
            "grid_column": null,
            "overflow_y": null,
            "overflow_x": null,
            "grid_auto_flow": null,
            "grid_area": null,
            "grid_template_columns": null,
            "flex": null,
            "_model_name": "LayoutModel",
            "justify_items": null,
            "grid_row": null,
            "max_height": null,
            "align_content": null,
            "visibility": null,
            "align_self": null,
            "height": null,
            "min_height": null,
            "padding": null,
            "grid_auto_rows": null,
            "grid_gap": null,
            "max_width": null,
            "order": null,
            "_view_module_version": "1.2.0",
            "grid_template_areas": null,
            "object_position": null,
            "object_fit": null,
            "grid_auto_columns": null,
            "margin": null,
            "display": null,
            "left": null
          }
        },
        "b19525e41fb74cbab6d3ae54122bc11b": {
          "model_module": "@jupyter-widgets/controls",
          "model_name": "DescriptionStyleModel",
          "state": {
            "_view_name": "StyleView",
            "_model_name": "DescriptionStyleModel",
            "description_width": "",
            "_view_module": "@jupyter-widgets/base",
            "_model_module_version": "1.5.0",
            "_view_count": null,
            "_view_module_version": "1.2.0",
            "_model_module": "@jupyter-widgets/controls"
          }
        },
        "9293191bdfaa4e378d315fec69abad43": {
          "model_module": "@jupyter-widgets/base",
          "model_name": "LayoutModel",
          "state": {
            "_view_name": "LayoutView",
            "grid_template_rows": null,
            "right": null,
            "justify_content": null,
            "_view_module": "@jupyter-widgets/base",
            "overflow": null,
            "_model_module_version": "1.2.0",
            "_view_count": null,
            "flex_flow": null,
            "width": null,
            "min_width": null,
            "border": null,
            "align_items": null,
            "bottom": null,
            "_model_module": "@jupyter-widgets/base",
            "top": null,
            "grid_column": null,
            "overflow_y": null,
            "overflow_x": null,
            "grid_auto_flow": null,
            "grid_area": null,
            "grid_template_columns": null,
            "flex": null,
            "_model_name": "LayoutModel",
            "justify_items": null,
            "grid_row": null,
            "max_height": null,
            "align_content": null,
            "visibility": null,
            "align_self": null,
            "height": null,
            "min_height": null,
            "padding": null,
            "grid_auto_rows": null,
            "grid_gap": null,
            "max_width": null,
            "order": null,
            "_view_module_version": "1.2.0",
            "grid_template_areas": null,
            "object_position": null,
            "object_fit": null,
            "grid_auto_columns": null,
            "margin": null,
            "display": null,
            "left": null
          }
        }
      }
    }
  },
  "cells": [
    {
      "cell_type": "markdown",
      "metadata": {
        "id": "gXmCHcwKs6rd"
      },
      "source": [
        "# Validation"
      ]
    },
    {
      "cell_type": "code",
      "metadata": {
        "id": "PzCCniVwNTdp"
      },
      "source": [
        "# Setting seeds to try and ensure we have the same results - this is not guaranteed across PyTorch releases.\n",
        "import torch\n",
        "torch.manual_seed(0)\n",
        "torch.backends.cudnn.deterministic = True\n",
        "torch.backends.cudnn.benchmark = False\n",
        "\n",
        "import numpy as np\n",
        "np.random.seed(0)"
      ],
      "execution_count": null,
      "outputs": []
    },
    {
      "cell_type": "code",
      "metadata": {
        "id": "PCJzXv0OK1Bs",
        "colab": {
          "base_uri": "https://localhost:8080/",
          "height": 568,
          "referenced_widgets": [
            "a1cc783f7cea4275995a50d5694c0cfd",
            "d69b1c0a16d84a3a918d12c0ecae13e3",
            "ae95ae761996435bb50d7b59555c4483",
            "0ce3d751050240ba8e3eb272c63aa3fb",
            "918d1d82fdae45629a9981c597e36ecf",
            "c8417219aa314299bc104e2703766ed2",
            "01f86d959e0e4f15ba91dbbd3b645c15",
            "c8b9c5a4a6be4d81abe07f16fbadfaa8",
            "a52de60a19fa46f6893c365bcb452f37",
            "224d0e0ca5194e5bb963cccde87d0420",
            "8a4a3baf8f224b799f3f87605e25f925",
            "52792bc40051403ca9e4b32cab24a5e7",
            "5c1d637d589742f9b0933f9324b6bfaf",
            "4b68f5e258384636a948f8c5389a9e3b",
            "0312549c365249e18a034e02e7110343",
            "eeb4e04bf5ba4bffae8a65511a99e8ec",
            "e75669cf75ba43a0b67954d5abcca12d",
            "f56d868c00004896b61e34e4715f6b46",
            "064569b38f4a4ebfa39b2e64cddb5e7c",
            "9c9f77677d05416cac5c883004df9f4d",
            "c106e15420b74b348034ccd78a72a9c1",
            "b6ba604b05184137987424678ecd47ff",
            "cd8172706c2f4f44beb6fed4cc980c27",
            "33874b73a74f42c48859a27d8acbe0df",
            "2169e24e83954d04b0ec20196769817b",
            "0448e29bfc7e40968779ed52801dd8e7",
            "4a35c5f4424941beb9e49f1953d3953a",
            "0e21e926e2264308ab12956d723e80b8",
            "3254a2ab9af14a778c95bd16d56cd16b",
            "d7ec920eab5849b799c1919032c561ca",
            "b19525e41fb74cbab6d3ae54122bc11b",
            "9293191bdfaa4e378d315fec69abad43"
          ]
        },
        "outputId": "de48fa5a-19ed-4818-d6f7-17119c5272e1"
      },
      "source": [
        "from torchvision import datasets, transforms\n",
        "import torch.nn.functional as F\n",
        "from torch import nn\n",
        "\n",
        "mean, std = (0.5,), (0.5,)\n",
        "\n",
        "# Create a transform and normalise data\n",
        "transform = transforms.Compose([transforms.ToTensor(),\n",
        "                                transforms.Normalize(mean, std)\n",
        "                              ])\n",
        "\n",
        "# Download FMNIST training dataset and load training data\n",
        "trainset = datasets.FashionMNIST('~/.pytorch/FMNIST/', download=True, train=True, transform=transform)\n",
        "trainloader = torch.utils.data.DataLoader(trainset, batch_size=64, shuffle=True)\n",
        "\n",
        "# Download FMNIST test dataset and load test data\n",
        "testset = datasets.FashionMNIST('~/.pytorch/FMNIST/', download=True, train=False, transform=transform)\n",
        "testloader = torch.utils.data.DataLoader(testset, batch_size=64, shuffle=False)"
      ],
      "execution_count": null,
      "outputs": [
        {
          "output_type": "stream",
          "text": [
            "Downloading http://fashion-mnist.s3-website.eu-central-1.amazonaws.com/train-images-idx3-ubyte.gz\n",
            "Downloading http://fashion-mnist.s3-website.eu-central-1.amazonaws.com/train-images-idx3-ubyte.gz to /root/.pytorch/FMNIST/FashionMNIST/raw/train-images-idx3-ubyte.gz\n"
          ],
          "name": "stdout"
        },
        {
          "output_type": "display_data",
          "data": {
            "application/vnd.jupyter.widget-view+json": {
              "model_id": "a1cc783f7cea4275995a50d5694c0cfd",
              "version_minor": 0,
              "version_major": 2
            },
            "text/plain": [
              "HBox(children=(FloatProgress(value=0.0, max=26421880.0), HTML(value='')))"
            ]
          },
          "metadata": {
            "tags": []
          }
        },
        {
          "output_type": "stream",
          "text": [
            "\n",
            "Extracting /root/.pytorch/FMNIST/FashionMNIST/raw/train-images-idx3-ubyte.gz to /root/.pytorch/FMNIST/FashionMNIST/raw\n",
            "\n",
            "Downloading http://fashion-mnist.s3-website.eu-central-1.amazonaws.com/train-labels-idx1-ubyte.gz\n",
            "Downloading http://fashion-mnist.s3-website.eu-central-1.amazonaws.com/train-labels-idx1-ubyte.gz to /root/.pytorch/FMNIST/FashionMNIST/raw/train-labels-idx1-ubyte.gz\n"
          ],
          "name": "stdout"
        },
        {
          "output_type": "display_data",
          "data": {
            "application/vnd.jupyter.widget-view+json": {
              "model_id": "a52de60a19fa46f6893c365bcb452f37",
              "version_minor": 0,
              "version_major": 2
            },
            "text/plain": [
              "HBox(children=(FloatProgress(value=0.0, max=29515.0), HTML(value='')))"
            ]
          },
          "metadata": {
            "tags": []
          }
        },
        {
          "output_type": "stream",
          "text": [
            "\n",
            "Extracting /root/.pytorch/FMNIST/FashionMNIST/raw/train-labels-idx1-ubyte.gz to /root/.pytorch/FMNIST/FashionMNIST/raw\n",
            "\n",
            "Downloading http://fashion-mnist.s3-website.eu-central-1.amazonaws.com/t10k-images-idx3-ubyte.gz\n",
            "Downloading http://fashion-mnist.s3-website.eu-central-1.amazonaws.com/t10k-images-idx3-ubyte.gz to /root/.pytorch/FMNIST/FashionMNIST/raw/t10k-images-idx3-ubyte.gz\n"
          ],
          "name": "stdout"
        },
        {
          "output_type": "display_data",
          "data": {
            "application/vnd.jupyter.widget-view+json": {
              "model_id": "e75669cf75ba43a0b67954d5abcca12d",
              "version_minor": 0,
              "version_major": 2
            },
            "text/plain": [
              "HBox(children=(FloatProgress(value=0.0, max=4422102.0), HTML(value='')))"
            ]
          },
          "metadata": {
            "tags": []
          }
        },
        {
          "output_type": "stream",
          "text": [
            "\n",
            "Extracting /root/.pytorch/FMNIST/FashionMNIST/raw/t10k-images-idx3-ubyte.gz to /root/.pytorch/FMNIST/FashionMNIST/raw\n",
            "\n",
            "Downloading http://fashion-mnist.s3-website.eu-central-1.amazonaws.com/t10k-labels-idx1-ubyte.gz\n",
            "Downloading http://fashion-mnist.s3-website.eu-central-1.amazonaws.com/t10k-labels-idx1-ubyte.gz to /root/.pytorch/FMNIST/FashionMNIST/raw/t10k-labels-idx1-ubyte.gz\n"
          ],
          "name": "stdout"
        },
        {
          "output_type": "display_data",
          "data": {
            "application/vnd.jupyter.widget-view+json": {
              "model_id": "2169e24e83954d04b0ec20196769817b",
              "version_minor": 0,
              "version_major": 2
            },
            "text/plain": [
              "HBox(children=(FloatProgress(value=0.0, max=5148.0), HTML(value='')))"
            ]
          },
          "metadata": {
            "tags": []
          }
        },
        {
          "output_type": "stream",
          "text": [
            "\n",
            "Extracting /root/.pytorch/FMNIST/FashionMNIST/raw/t10k-labels-idx1-ubyte.gz to /root/.pytorch/FMNIST/FashionMNIST/raw\n",
            "\n",
            "Processing...\n"
          ],
          "name": "stdout"
        },
        {
          "output_type": "stream",
          "text": [
            "/usr/local/lib/python3.7/dist-packages/torchvision/datasets/mnist.py:502: UserWarning: The given NumPy array is not writeable, and PyTorch does not support non-writeable tensors. This means you can write to the underlying (supposedly non-writeable) NumPy array using the tensor. You may want to copy the array to protect its data or make it writeable before converting it to a tensor. This type of warning will be suppressed for the rest of this program. (Triggered internally at  /pytorch/torch/csrc/utils/tensor_numpy.cpp:143.)\n",
            "  return torch.from_numpy(parsed.astype(m[2], copy=False)).view(*s)\n"
          ],
          "name": "stderr"
        },
        {
          "output_type": "stream",
          "text": [
            "Done!\n"
          ],
          "name": "stdout"
        }
      ]
    },
    {
      "cell_type": "code",
      "metadata": {
        "id": "rqMqFbIVrbFH"
      },
      "source": [
        "class FMNIST(nn.Module):\n",
        "  def __init__(self):\n",
        "    super().__init__()\n",
        "    self.fc1 = nn.Linear(784, 128)\n",
        "    self.fc2 = nn.Linear(128,64)\n",
        "    self.fc3 = nn.Linear(64,10)\n",
        "    \n",
        "  def forward(self, x):\n",
        "    x = x.view(x.shape[0], -1)\n",
        "    \n",
        "    x = F.relu(self.fc1(x))\n",
        "    x = F.relu(self.fc2(x))\n",
        "    x = self.fc3(x)\n",
        "    x = F.log_softmax(x, dim=1)\n",
        "    \n",
        "    return x\n",
        "\n",
        "model = FMNIST()"
      ],
      "execution_count": null,
      "outputs": []
    },
    {
      "cell_type": "code",
      "metadata": {
        "id": "oNNyI5YRZ7H1",
        "colab": {
          "base_uri": "https://localhost:8080/"
        },
        "outputId": "9023454a-c4ff-4ccc-918d-7e172ca98f15"
      },
      "source": [
        "from torch import optim\n",
        "\n",
        "criterion = nn.NLLLoss()\n",
        "optimizer = optim.SGD(model.parameters(), lr=0.01)\n",
        "\n",
        "num_epochs = 3\n",
        "\n",
        "for i in range(num_epochs):\n",
        "    cum_loss = 0\n",
        "\n",
        "    for images, labels in trainloader:\n",
        "        optimizer.zero_grad()\n",
        "        output = model(images)\n",
        "        loss = criterion(output, labels)\n",
        "        loss.backward()\n",
        "        optimizer.step()\n",
        "        \n",
        "        cum_loss += loss.item()\n",
        "     \n",
        "    print(f\"Training loss: {cum_loss/len(trainloader)}\")"
      ],
      "execution_count": null,
      "outputs": [
        {
          "output_type": "stream",
          "text": [
            "Training loss: 1.033817742838026\n",
            "Training loss: 0.5608130698836943\n",
            "Training loss: 0.4914251829960199\n"
          ],
          "name": "stdout"
        }
      ]
    },
    {
      "cell_type": "code",
      "metadata": {
        "id": "UWYw7ZOzsS8U"
      },
      "source": [
        "import matplotlib.pyplot as plt\n",
        "%matplotlib inline\n",
        "\n",
        "images, labels = next(iter(testloader))\n",
        "\n",
        "test_image_id = 0 \n",
        "img = images[test_image_id].view(1, 784) \n",
        "\n",
        "with torch.no_grad():\n",
        "    logps = model(img)"
      ],
      "execution_count": null,
      "outputs": []
    },
    {
      "cell_type": "code",
      "metadata": {
        "id": "2tRjoEDSqY8X",
        "colab": {
          "base_uri": "https://localhost:8080/"
        },
        "outputId": "949ceb94-3f36-4b98-cdf6-08fcb3eef7dc"
      },
      "source": [
        "ps = torch.exp(logps)\n",
        "ps"
      ],
      "execution_count": null,
      "outputs": [
        {
          "output_type": "execute_result",
          "data": {
            "text/plain": [
              "tensor([[1.4694e-06, 5.1976e-07, 8.2883e-06, 8.7665e-07, 5.9609e-06, 1.8958e-01,\n",
              "         4.7358e-06, 1.6259e-01, 4.3656e-03, 6.4344e-01]])"
            ]
          },
          "metadata": {
            "tags": []
          },
          "execution_count": 6
        }
      ]
    },
    {
      "cell_type": "code",
      "metadata": {
        "id": "dpP_RLV-qkc6",
        "colab": {
          "base_uri": "https://localhost:8080/"
        },
        "outputId": "e19902af-a712-42b9-ff55-41a9799c9028"
      },
      "source": [
        "nps = ps.numpy()[0]\n",
        "nps"
      ],
      "execution_count": null,
      "outputs": [
        {
          "output_type": "execute_result",
          "data": {
            "text/plain": [
              "array([1.4694111e-06, 5.1975525e-07, 8.2882934e-06, 8.7665433e-07,\n",
              "       5.9608965e-06, 1.8958026e-01, 4.7358412e-06, 1.6259281e-01,\n",
              "       4.3656128e-03, 6.4343941e-01], dtype=float32)"
            ]
          },
          "metadata": {
            "tags": []
          },
          "execution_count": 7
        }
      ]
    },
    {
      "cell_type": "code",
      "metadata": {
        "id": "kBf23XrtqrB6",
        "colab": {
          "base_uri": "https://localhost:8080/",
          "height": 332
        },
        "outputId": "4b69f723-19dd-416e-c180-b8bd82ea937c"
      },
      "source": [
        "FMNIST_labels = ['T-shirt/top','Trouser','Pullover','Dress','Coat','Sandal','Shirt','Sport Shoes','Bag','Ankle Boots']\n",
        "plt.xticks(np.arange(10),labels=FMNIST_labels,rotation='vertical')\n",
        "plt.bar(np.arange(10), nps)"
      ],
      "execution_count": null,
      "outputs": [
        {
          "output_type": "execute_result",
          "data": {
            "text/plain": [
              "<BarContainer object of 10 artists>"
            ]
          },
          "metadata": {
            "tags": []
          },
          "execution_count": 8
        },
        {
          "output_type": "display_data",
          "data": {
            "image/png": "[encoded data removed]",
            "text/plain": [
              "<Figure size 432x288 with 1 Axes>"
            ]
          },
          "metadata": {
            "tags": [],
            "needs_background": "light"
          }
        }
      ]
    },
    {
      "cell_type": "code",
      "metadata": {
        "id": "Y7gY5hARpOp4",
        "colab": {
          "base_uri": "https://localhost:8080/",
          "height": 282
        },
        "outputId": "0bd38fcf-f502-4ef9-a953-7cc0287d6756"
      },
      "source": [
        "def denormalize(tensor):\n",
        "  tensor = tensor*0.5 + 0.5\n",
        "  return tensor\n",
        "  \n",
        "img = img.view(28,-1)\n",
        "img = denormalize(img)\n",
        "plt.imshow(img,cmap='gray')"
      ],
      "execution_count": null,
      "outputs": [
        {
          "output_type": "execute_result",
          "data": {
            "text/plain": [
              "<matplotlib.image.AxesImage at 0x7fbaf0a96190>"
            ]
          },
          "metadata": {
            "tags": []
          },
          "execution_count": 9
        },
        {
          "output_type": "display_data",
          "data": {
            "image/png": "[encoded data removed]",
            "text/plain": [
              "<Figure size 432x288 with 1 Axes>"
            ]
          },
          "metadata": {
            "tags": [],
            "needs_background": "light"
          }
        }
      ]
    },
    {
      "cell_type": "code",
      "metadata": {
        "id": "AxTiil7cXOAz",
        "colab": {
          "base_uri": "https://localhost:8080/"
        },
        "outputId": "f975bfa4-32e4-44b7-f88f-382b47ae23ea"
      },
      "source": [
        "with torch.no_grad():\n",
        "    num_correct = 0\n",
        "    total = 0\n",
        "\n",
        "    cnt = 0\n",
        "    for images, labels in testloader:\n",
        "        \n",
        "        logps = model(images)\n",
        "        output = torch.exp(logps)\n",
        "        print(output)\n",
        "        cnt+=1\n",
        "        \n",
        "        if cnt > 0:\n",
        "          break"
      ],
      "execution_count": null,
      "outputs": [
        {
          "output_type": "stream",
          "text": [
            "tensor([[1.4694e-06, 5.1976e-07, 8.2883e-06, 8.7665e-07, 5.9609e-06, 1.8958e-01,\n",
            "         4.7358e-06, 1.6259e-01, 4.3656e-03, 6.4344e-01],\n",
            "        [1.2107e-03, 4.7620e-05, 9.0699e-01, 1.9238e-04, 2.3454e-02, 1.1216e-05,\n",
            "         6.6957e-02, 9.6279e-09, 1.1370e-03, 5.0414e-07],\n",
            "        [1.1657e-05, 9.9983e-01, 2.9732e-05, 7.5489e-05, 5.6221e-05, 2.3275e-08,\n",
            "         1.2295e-07, 4.7149e-07, 4.7414e-09, 9.2089e-09],\n",
            "        [3.0764e-06, 9.9961e-01, 3.7151e-05, 3.0819e-04, 3.7900e-05, 1.6285e-07,\n",
            "         9.5344e-08, 1.9980e-06, 9.5461e-09, 5.5561e-08],\n",
            "        [1.1192e-01, 6.6780e-04, 1.7932e-01, 1.2630e-02, 1.5376e-02, 3.0140e-04,\n",
            "         6.6935e-01, 1.5345e-06, 1.0411e-02, 1.5121e-05],\n",
            "        [1.5677e-03, 9.8672e-01, 9.1923e-04, 1.9541e-03, 8.7417e-03, 5.6881e-07,\n",
            "         9.3379e-05, 4.4160e-06, 1.5725e-06, 2.6742e-07],\n",
            "        [1.0803e-02, 1.0664e-03, 5.4956e-02, 6.7344e-04, 7.9228e-01, 1.1784e-04,\n",
            "         1.3821e-01, 7.8308e-07, 1.8893e-03, 1.1952e-06],\n",
            "        [5.8000e-03, 3.8301e-04, 9.4873e-02, 2.3096e-03, 2.1418e-01, 4.9785e-04,\n",
            "         6.6694e-01, 7.2841e-07, 1.5010e-02, 7.1673e-06],\n",
            "        [1.0762e-02, 3.7814e-03, 2.3807e-02, 1.5284e-02, 6.4659e-03, 7.9909e-01,\n",
            "         1.2947e-02, 1.0073e-01, 2.5478e-02, 1.6530e-03],\n",
            "        [1.6258e-05, 1.2698e-05, 2.0213e-05, 3.9551e-05, 5.6427e-05, 3.0815e-02,\n",
            "         1.2485e-05, 9.6354e-01, 1.9563e-03, 3.5286e-03],\n",
            "        [6.5981e-04, 1.2881e-02, 3.4993e-01, 9.9540e-04, 5.8315e-01, 5.2713e-05,\n",
            "         5.2035e-02, 3.1643e-07, 2.8913e-04, 4.1522e-06],\n",
            "        [6.8297e-05, 3.4409e-05, 7.8056e-04, 3.9334e-05, 3.1839e-04, 8.4124e-01,\n",
            "         2.5969e-04, 7.8244e-02, 1.2049e-02, 6.6968e-02],\n",
            "        [2.3629e-04, 1.4996e-04, 2.5651e-03, 1.3411e-03, 1.7228e-03, 8.6477e-01,\n",
            "         7.3936e-04, 5.2188e-02, 7.5003e-02, 1.2862e-03],\n",
            "        [1.8788e-03, 4.5709e-03, 2.6301e-04, 9.9068e-01, 2.5186e-04, 5.7595e-06,\n",
            "         2.8119e-04, 1.3449e-03, 6.9417e-04, 2.8210e-05],\n",
            "        [3.7000e-04, 9.5487e-05, 1.9035e-02, 9.2721e-04, 9.0562e-01, 7.7125e-06,\n",
            "         6.2572e-02, 2.8055e-07, 1.1373e-02, 2.6513e-06],\n",
            "        [2.1675e-04, 9.8762e-01, 5.7665e-04, 1.1001e-02, 5.5915e-04, 9.2525e-07,\n",
            "         1.4785e-05, 1.1990e-05, 6.2142e-07, 5.7088e-07],\n",
            "        [7.3617e-02, 9.7062e-03, 7.3560e-01, 4.6527e-03, 3.1594e-02, 6.1012e-04,\n",
            "         1.4300e-01, 1.1474e-06, 1.2183e-03, 6.7987e-06],\n",
            "        [2.2817e-02, 2.1191e-04, 2.7368e-01, 2.1094e-03, 2.0182e-01, 6.3529e-05,\n",
            "         4.8225e-01, 3.3209e-07, 1.7040e-02, 5.3799e-06],\n",
            "        [3.1986e-04, 3.6089e-06, 2.2189e-03, 3.4025e-05, 1.6079e-03, 9.3980e-03,\n",
            "         1.7824e-03, 1.0957e-03, 9.8129e-01, 2.2498e-03],\n",
            "        [9.5179e-01, 5.5085e-05, 2.9051e-03, 3.5353e-03, 8.5434e-05, 1.1000e-07,\n",
            "         4.1568e-02, 6.4584e-09, 6.4861e-05, 1.3906e-08],\n",
            "        [3.9651e-01, 1.2007e-02, 2.4828e-01, 2.5263e-02, 3.5910e-02, 1.4596e-03,\n",
            "         2.5991e-01, 7.9422e-05, 2.0034e-02, 5.5066e-04],\n",
            "        [2.8514e-05, 7.2002e-05, 3.2251e-04, 1.3513e-04, 4.1239e-04, 5.3345e-01,\n",
            "         6.3208e-05, 4.4693e-01, 1.2267e-02, 6.3214e-03],\n",
            "        [7.9017e-08, 5.0377e-07, 9.1810e-07, 6.7137e-07, 2.4403e-06, 2.3907e-02,\n",
            "         1.0493e-07, 9.5566e-01, 6.5857e-04, 1.9767e-02],\n",
            "        [5.1981e-06, 4.2254e-06, 1.8761e-05, 6.4114e-06, 1.3641e-05, 4.0522e-01,\n",
            "         4.5477e-06, 5.0925e-01, 2.0145e-03, 8.3469e-02],\n",
            "        [3.4380e-06, 9.9971e-01, 2.0446e-05, 2.3656e-04, 2.9567e-05, 1.8766e-07,\n",
            "         5.8906e-08, 4.0144e-06, 1.0736e-08, 5.1344e-08],\n",
            "        [5.6321e-03, 2.7157e-03, 7.9470e-01, 1.0136e-02, 5.5033e-02, 3.9350e-03,\n",
            "         1.1793e-01, 4.1895e-06, 9.9046e-03, 1.1340e-05],\n",
            "        [1.1667e-03, 9.4681e-05, 9.3317e-02, 5.1462e-04, 4.1492e-01, 2.5594e-05,\n",
            "         4.8410e-01, 5.0936e-08, 5.8543e-03, 3.4222e-06],\n",
            "        [4.9008e-01, 1.7652e-02, 8.2894e-03, 4.2103e-01, 1.8613e-02, 3.5032e-07,\n",
            "         4.3920e-02, 3.9367e-06, 4.1116e-04, 5.8514e-07],\n",
            "        [3.0150e-07, 7.7303e-08, 1.0184e-06, 1.3488e-07, 9.9258e-07, 2.3571e-02,\n",
            "         5.8145e-07, 1.1672e-01, 2.5395e-03, 8.5716e-01],\n",
            "        [8.4883e-02, 1.5649e-03, 8.0324e-03, 2.5307e-01, 3.7839e-01, 2.3128e-06,\n",
            "         2.6078e-01, 1.1913e-05, 1.3262e-02, 3.3496e-06],\n",
            "        [3.3768e-06, 9.3834e-08, 7.1555e-05, 1.2459e-05, 3.3581e-04, 8.3754e-04,\n",
            "         1.0025e-04, 1.4904e-04, 9.9837e-01, 1.1650e-04],\n",
            "        [9.2652e-03, 1.3072e-05, 5.5316e-03, 1.7474e-02, 2.0506e-03, 8.1669e-04,\n",
            "         2.1725e-02, 4.4712e-05, 9.4304e-01, 3.7692e-05],\n",
            "        [1.3787e-02, 1.0387e-02, 7.1746e-03, 9.3465e-01, 7.4934e-03, 6.2271e-04,\n",
            "         1.1500e-02, 2.1028e-03, 1.2146e-02, 1.3522e-04],\n",
            "        [5.8589e-02, 4.9400e-04, 1.4806e-02, 8.7271e-01, 5.2807e-03, 8.0735e-07,\n",
            "         4.4495e-02, 4.2682e-06, 3.6151e-03, 5.6069e-07],\n",
            "        [2.0241e-04, 3.3008e-06, 5.9434e-03, 1.1831e-03, 9.3257e-04, 4.6159e-03,\n",
            "         2.3345e-03, 8.8842e-05, 9.8465e-01, 4.7786e-05],\n",
            "        [7.2577e-01, 4.0235e-04, 2.1727e-02, 2.3487e-02, 1.3715e-03, 4.2953e-05,\n",
            "         2.2550e-01, 1.3116e-06, 1.7005e-03, 1.3159e-06],\n",
            "        [3.9497e-06, 1.2350e-05, 6.1575e-06, 8.4032e-06, 2.9017e-05, 1.6913e-02,\n",
            "         2.8352e-06, 9.7717e-01, 4.7413e-04, 5.3765e-03],\n",
            "        [1.6356e-03, 3.1179e-04, 3.4055e-03, 1.4346e-03, 6.3582e-04, 9.5629e-01,\n",
            "         3.0895e-03, 2.6944e-02, 5.1463e-03, 1.1041e-03],\n",
            "        [2.0758e-06, 1.1296e-05, 1.1700e-05, 5.5957e-06, 5.0093e-05, 1.7132e-02,\n",
            "         2.2338e-06, 9.7663e-01, 8.4533e-04, 5.3113e-03],\n",
            "        [1.8512e-08, 3.6015e-09, 5.5305e-08, 4.0877e-09, 3.3691e-08, 2.5137e-03,\n",
            "         4.8629e-08, 7.5196e-03, 1.7960e-04, 9.8979e-01],\n",
            "        [6.5762e-01, 7.5431e-06, 1.7211e-03, 3.5331e-03, 9.4776e-04, 7.1224e-08,\n",
            "         3.3562e-01, 1.0211e-08, 5.5389e-04, 7.1025e-08],\n",
            "        [4.9882e-06, 9.9976e-01, 1.6861e-05, 1.4544e-04, 6.9500e-05, 3.6798e-08,\n",
            "         1.0812e-07, 5.8969e-06, 5.8785e-09, 1.1268e-07],\n",
            "        [2.0426e-01, 5.2956e-03, 5.5599e-02, 2.4117e-01, 2.0560e-01, 4.5171e-06,\n",
            "         2.8045e-01, 2.1033e-06, 7.6140e-03, 7.3416e-07],\n",
            "        [6.9695e-08, 2.8646e-08, 1.3086e-07, 1.3180e-08, 9.5464e-08, 1.7845e-02,\n",
            "         6.8266e-08, 1.4549e-01, 9.9490e-05, 8.3657e-01],\n",
            "        [3.5784e-03, 5.9141e-05, 1.1187e-01, 1.9664e-03, 2.2765e-01, 4.5662e-06,\n",
            "         6.5104e-01, 1.1698e-08, 3.8290e-03, 2.2203e-07],\n",
            "        [2.3982e-04, 3.2647e-05, 4.3248e-04, 9.0835e-05, 1.8722e-04, 6.7611e-01,\n",
            "         4.6169e-04, 2.0998e-01, 1.8713e-02, 9.3753e-02],\n",
            "        [2.9444e-02, 7.2479e-04, 7.4028e-01, 4.3659e-03, 2.1994e-02, 5.3641e-05,\n",
            "         2.0010e-01, 1.3677e-07, 3.0317e-03, 4.0210e-06],\n",
            "        [6.2848e-04, 9.5962e-01, 6.2938e-04, 3.7682e-02, 1.3426e-03, 5.0306e-07,\n",
            "         2.9016e-05, 6.3529e-05, 1.8702e-06, 1.6343e-06],\n",
            "        [1.4502e-03, 2.2704e-02, 5.6206e-01, 8.2559e-03, 3.6589e-01, 4.5235e-04,\n",
            "         3.7494e-02, 3.2252e-06, 1.6874e-03, 7.0029e-06],\n",
            "        [6.2216e-03, 1.2847e-04, 1.9097e-01, 2.3368e-03, 8.5956e-02, 5.9289e-05,\n",
            "         7.0556e-01, 8.8169e-08, 8.7647e-03, 2.7659e-06],\n",
            "        [1.2154e-02, 3.6139e-04, 2.3463e-01, 1.2193e-03, 4.2018e-01, 9.2392e-05,\n",
            "         3.1434e-01, 5.8785e-07, 1.7012e-02, 9.0964e-06],\n",
            "        [6.3657e-03, 7.8096e-04, 6.6365e-01, 2.3252e-03, 5.0855e-02, 2.0392e-03,\n",
            "         2.6896e-01, 7.0135e-07, 5.0204e-03, 3.4848e-06],\n",
            "        [3.0255e-03, 1.5352e-03, 7.2656e-03, 3.5821e-03, 1.1549e-03, 8.7424e-01,\n",
            "         3.3990e-03, 9.1617e-02, 6.9532e-03, 7.2302e-03],\n",
            "        [4.1801e-02, 1.1069e-04, 8.9834e-02, 2.0999e-03, 2.2526e-02, 3.2168e-03,\n",
            "         4.9774e-01, 1.3251e-05, 3.4146e-01, 1.1961e-03],\n",
            "        [1.0850e-02, 2.2239e-02, 5.6293e-01, 2.3722e-02, 3.2418e-01, 6.0675e-05,\n",
            "         5.3801e-02, 1.5286e-06, 2.2161e-03, 1.7787e-06],\n",
            "        [5.7545e-02, 1.3800e-03, 8.4251e-01, 2.5141e-03, 8.3778e-03, 1.3556e-04,\n",
            "         8.4969e-02, 3.2417e-07, 2.5620e-03, 8.5789e-06],\n",
            "        [1.9553e-04, 3.5200e-07, 6.0881e-04, 1.8694e-05, 2.0174e-03, 2.9809e-04,\n",
            "         1.2383e-03, 6.3906e-05, 9.9551e-01, 4.8376e-05],\n",
            "        [5.8087e-04, 2.9463e-04, 3.7957e-01, 1.3964e-03, 4.5946e-01, 4.7573e-05,\n",
            "         1.5338e-01, 1.5130e-07, 5.2726e-03, 1.9220e-06],\n",
            "        [1.5276e-04, 2.0275e-07, 5.4139e-04, 1.0302e-05, 7.5321e-04, 5.5204e-04,\n",
            "         1.0215e-03, 7.6339e-05, 9.9682e-01, 6.8172e-05],\n",
            "        [8.2232e-01, 8.7190e-03, 3.9086e-02, 1.9870e-02, 3.3592e-03, 1.7558e-04,\n",
            "         1.0579e-01, 1.1293e-05, 6.5700e-04, 8.4487e-06],\n",
            "        [1.5013e-06, 2.8097e-06, 3.7825e-06, 3.9609e-06, 8.2886e-06, 2.5955e-02,\n",
            "         1.1073e-06, 9.6943e-01, 3.1681e-04, 4.2721e-03],\n",
            "        [5.0396e-07, 9.1046e-07, 2.8510e-06, 2.2768e-06, 6.5531e-06, 5.8958e-02,\n",
            "         8.1528e-07, 8.8457e-01, 2.6271e-03, 5.3831e-02],\n",
            "        [7.6836e-07, 9.1770e-07, 1.2565e-04, 9.7859e-06, 7.2957e-04, 8.8333e-03,\n",
            "         2.2229e-05, 4.7445e-03, 9.8250e-01, 3.0344e-03],\n",
            "        [3.9613e-04, 6.3907e-05, 1.3900e-03, 2.0150e-04, 2.4388e-04, 9.7842e-01,\n",
            "         1.0375e-03, 9.7890e-03, 5.1611e-03, 3.2976e-03]])\n"
          ],
          "name": "stdout"
        }
      ]
    },
    {
      "cell_type": "code",
      "metadata": {
        "id": "6Ij_wa7paveM"
      },
      "source": [
        "with torch.no_grad():\n",
        "    num_correct = 0\n",
        "    total = 0\n",
        "\n",
        "    #set_trace()\n",
        "    for images, labels in testloader:\n",
        "        \n",
        "        logps = model(images)\n",
        "        output = torch.exp(logps)\n",
        "        \n",
        "        pred = torch.argmax(output, 1)\n",
        "        total += labels.size(0)\n"
      ],
      "execution_count": null,
      "outputs": []
    },
    {
      "cell_type": "code",
      "metadata": {
        "id": "nyxadgAyiRqg",
        "colab": {
          "base_uri": "https://localhost:8080/"
        },
        "outputId": "bb44abfc-993e-43bf-86b8-edbaaa296c3e"
      },
      "source": [
        "pred, labels"
      ],
      "execution_count": null,
      "outputs": [
        {
          "output_type": "execute_result",
          "data": {
            "text/plain": [
              "(tensor([3, 3, 7, 5, 8, 4, 5, 6, 8, 9, 1, 9, 1, 8, 1, 5]),\n",
              " tensor([3, 2, 7, 5, 8, 4, 5, 6, 8, 9, 1, 9, 1, 8, 1, 5]))"
            ]
          },
          "metadata": {
            "tags": []
          },
          "execution_count": 12
        }
      ]
    },
    {
      "cell_type": "code",
      "metadata": {
        "id": "ojLPwZLdi3OX",
        "colab": {
          "base_uri": "https://localhost:8080/"
        },
        "outputId": "1a8e3a16-cd14-48f9-c3f3-2f690762ef19"
      },
      "source": [
        "pred == labels"
      ],
      "execution_count": null,
      "outputs": [
        {
          "output_type": "execute_result",
          "data": {
            "text/plain": [
              "tensor([ True, False,  True,  True,  True,  True,  True,  True,  True,  True,\n",
              "         True,  True,  True,  True,  True,  True])"
            ]
          },
          "metadata": {
            "tags": []
          },
          "execution_count": 13
        }
      ]
    },
    {
      "cell_type": "code",
      "metadata": {
        "id": "6V-3r9n-iCMb",
        "colab": {
          "base_uri": "https://localhost:8080/"
        },
        "outputId": "64f65bf2-ea60-4c4c-eadd-a416e4c2a3bd"
      },
      "source": [
        "with torch.no_grad():\n",
        "    num_correct = 0\n",
        "    total = 0\n",
        "\n",
        "    #set_trace()\n",
        "    for images, labels in testloader:\n",
        "        \n",
        "        logps = model(images)\n",
        "        output = torch.exp(logps)\n",
        "        \n",
        "        pred = torch.argmax(output, 1)\n",
        "        total += labels.size(0)\n",
        "        num_correct += (pred == labels).sum().item()\n",
        "\n",
        "    print(f'Accuracy of the model on the 10000 test images: {num_correct * 100 / total}% ')"
      ],
      "execution_count": null,
      "outputs": [
        {
          "output_type": "stream",
          "text": [
            "Accuracy of the model on the 10000 test images: 81.73% \n"
          ],
          "name": "stdout"
        }
      ]
    },
    {
      "cell_type": "code",
      "metadata": {
        "id": "2VNQH0g6F8xH"
      },
      "source": [
        ""
      ],
      "execution_count": null,
      "outputs": []
    }
  ]
}